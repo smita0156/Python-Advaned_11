{
 "cells": [
  {
   "cell_type": "code",
   "execution_count": null,
   "id": "ec3dd637-6603-47ef-9675-b2dd69ca8218",
   "metadata": {},
   "outputs": [],
   "source": [
    "Q1. What is the concept of a metaclass?"
   ]
  },
  {
   "cell_type": "code",
   "execution_count": null,
   "id": "e9ec8c64-c0c7-435d-a457-94be0502c2fe",
   "metadata": {},
   "outputs": [],
   "source": [
    "A metaclass in Python is a class of a class that defines how a class behaves. A class is itself an instance of a metaclass. A class in Python defines how the instance of the class will behave. In order to understand metaclasses well, one needs to have prior experience working with Python classes."
   ]
  },
  {
   "cell_type": "code",
   "execution_count": null,
   "id": "9c003a86-7a90-427b-835c-92c048ffea55",
   "metadata": {},
   "outputs": [],
   "source": [
    "Q2. What is the best way to declare a class&#39;s metaclass?"
   ]
  },
  {
   "cell_type": "code",
   "execution_count": null,
   "id": "33e3881b-575f-44dc-9b8f-ed356a8218fa",
   "metadata": {},
   "outputs": [],
   "source": [
    "Passing the metaclass keyword in the class definition"
   ]
  },
  {
   "cell_type": "code",
   "execution_count": null,
   "id": "0e62504e-9bc8-446e-999d-57e55425e619",
   "metadata": {},
   "outputs": [],
   "source": [
    "Using the class keyword"
   ]
  },
  {
   "cell_type": "code",
   "execution_count": null,
   "id": "f3d54005-f8d9-4a63-a51a-764a812c4ca2",
   "metadata": {},
   "outputs": [],
   "source": [
    "Q3. How do class decorators overlap with metaclasses for handling classes?"
   ]
  },
  {
   "cell_type": "code",
   "execution_count": null,
   "id": "1f1b029d-8f61-4fac-b67e-a97a22ef003a",
   "metadata": {},
   "outputs": [],
   "source": [
    "Metaclasses operate at the lower level and allow you to change the structure or behavior of the class, like the class methods, attributes, and inheritance. Decorators, however, are used to modify the functions' behavior."
   ]
  },
  {
   "cell_type": "code",
   "execution_count": null,
   "id": "04fbd78d-d8fa-47e5-af78-3e05ff657a74",
   "metadata": {},
   "outputs": [],
   "source": [
    "First use the '@' symbol followed by the name of the decorator function."
   ]
  },
  {
   "cell_type": "code",
   "execution_count": null,
   "id": "aa2cbb12-be04-41e3-ad2f-dd0e6063a78b",
   "metadata": {},
   "outputs": [],
   "source": [
    "Q4. How do class decorators overlap with metaclasses for handling instances?"
   ]
  },
  {
   "cell_type": "code",
   "execution_count": null,
   "id": "d87718f7-e78a-4e31-b585-89189a02e6fb",
   "metadata": {},
   "outputs": [],
   "source": [
    "By adds functionality to existing functions. "
   ]
  },
  {
   "cell_type": "code",
   "execution_count": null,
   "id": "8fa1968d-c4fb-4577-a432-8c8a4f514f48",
   "metadata": {},
   "outputs": [],
   "source": []
  },
  {
   "cell_type": "code",
   "execution_count": null,
   "id": "16a05c33-ee98-4eec-8b60-14a30f596bfc",
   "metadata": {},
   "outputs": [],
   "source": []
  },
  {
   "cell_type": "code",
   "execution_count": null,
   "id": "9b4ee2e1-60cf-4432-a5c0-f9f926395144",
   "metadata": {},
   "outputs": [],
   "source": []
  },
  {
   "cell_type": "code",
   "execution_count": null,
   "id": "016cec25-e65b-45bf-a5df-1f4409f03c66",
   "metadata": {},
   "outputs": [],
   "source": []
  }
 ],
 "metadata": {
  "kernelspec": {
   "display_name": "Python 3 (ipykernel)",
   "language": "python",
   "name": "python3"
  },
  "language_info": {
   "codemirror_mode": {
    "name": "ipython",
    "version": 3
   },
   "file_extension": ".py",
   "mimetype": "text/x-python",
   "name": "python",
   "nbconvert_exporter": "python",
   "pygments_lexer": "ipython3",
   "version": "3.10.6"
  }
 },
 "nbformat": 4,
 "nbformat_minor": 5
}
